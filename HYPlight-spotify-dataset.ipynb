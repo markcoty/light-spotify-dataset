{
 "cells": [
  {
   "cell_type": "code",
   "execution_count": 82,
   "id": "dd83caff-2fcd-48d5-9892-b815c35ddd55",
   "metadata": {},
   "outputs": [],
   "source": [
    "import numpy as np\n",
    "import pandas as pd\n",
    "import matplotlib.pyplot as plt\n",
    "import seaborn as sns\n",
    "import plotly.express as px\n",
    "import plotly.graph_objects as go\n",
    "\n",
    "from scipy import stats\n",
    "import statsmodels.api as sm\n",
    "\n",
    "from sklearn.preprocessing import StandardScaler, MinMaxScaler, LabelEncoder, OneHotEncoder\n",
    "from sklearn.impute import SimpleImputer, KNNImputer\n",
    "from sklearn.decomposition import PCA\n",
    "\n",
    "from datetime import datetime\n",
    "import time\n",
    "\n",
    "import re\n",
    "import nltk\n",
    "from nltk.corpus import stopwords\n",
    "\n",
    "import os\n",
    "import glob\n",
    "import json\n",
    "\n",
    "pd.set_option('display.max_columns', None)\n",
    "pd.set_option('display.max_rows', 100)\n",
    "pd.set_option('display.width', 1000)\n",
    "pd.set_option('display.float_format', '{:.2f}'.format)\n",
    "\n",
    "plt.style.use('ggplot')  \n",
    "sns.set(style=\"whitegrid\")\n",
    "%matplotlib inline"
   ]
  },
  {
   "cell_type": "code",
   "execution_count": 83,
   "id": "0e37ff67-5e84-4068-b2ce-0f30f2fc3b0f",
   "metadata": {},
   "outputs": [],
   "source": [
    "# import the dataset\n",
    "df = pd.read_csv('light_spotify_dataset.csv')"
   ]
  },
  {
   "cell_type": "code",
   "execution_count": 84,
   "id": "741a76b4-83d5-48b9-aa05-d34e753d9242",
   "metadata": {},
   "outputs": [],
   "source": [
    "# capitalize all column names\n",
    "df.columns = [col.title() for col in df.columns]"
   ]
  },
  {
   "cell_type": "code",
   "execution_count": 85,
   "id": "547f22fa-c2a3-4251-96d1-d3e36cf88ba5",
   "metadata": {
    "scrolled": true
   },
   "outputs": [
    {
     "data": {
      "text/html": [
       "<div>\n",
       "<style scoped>\n",
       "    .dataframe tbody tr th:only-of-type {\n",
       "        vertical-align: middle;\n",
       "    }\n",
       "\n",
       "    .dataframe tbody tr th {\n",
       "        vertical-align: top;\n",
       "    }\n",
       "\n",
       "    .dataframe thead th {\n",
       "        text-align: right;\n",
       "    }\n",
       "</style>\n",
       "<table border=\"1\" class=\"dataframe\">\n",
       "  <thead>\n",
       "    <tr style=\"text-align: right;\">\n",
       "      <th></th>\n",
       "      <th>Artist</th>\n",
       "      <th>Song</th>\n",
       "      <th>Emotion</th>\n",
       "      <th>Variance</th>\n",
       "      <th>Genre</th>\n",
       "      <th>Date</th>\n",
       "      <th>Key</th>\n",
       "      <th>Tempo</th>\n",
       "      <th>Loudness</th>\n",
       "      <th>Explicit</th>\n",
       "      <th>Popularity</th>\n",
       "      <th>Energy</th>\n",
       "      <th>Danceability</th>\n",
       "      <th>Positiveness</th>\n",
       "      <th>Speechiness</th>\n",
       "      <th>Liveness</th>\n",
       "      <th>Acousticness</th>\n",
       "      <th>Instrumentalness</th>\n",
       "    </tr>\n",
       "  </thead>\n",
       "  <tbody>\n",
       "    <tr>\n",
       "      <th>0</th>\n",
       "      <td>ABBA</td>\n",
       "      <td>She's My Kind Of Girl</td>\n",
       "      <td>joy</td>\n",
       "      <td>0.45</td>\n",
       "      <td>pop</td>\n",
       "      <td>2014</td>\n",
       "      <td>F Maj</td>\n",
       "      <td>128</td>\n",
       "      <td>-6.00</td>\n",
       "      <td>No</td>\n",
       "      <td>31</td>\n",
       "      <td>78</td>\n",
       "      <td>56</td>\n",
       "      <td>60</td>\n",
       "      <td>3</td>\n",
       "      <td>31</td>\n",
       "      <td>7</td>\n",
       "      <td>0</td>\n",
       "    </tr>\n",
       "    <tr>\n",
       "      <th>1</th>\n",
       "      <td>ABBA</td>\n",
       "      <td>Andante, Andante</td>\n",
       "      <td>love</td>\n",
       "      <td>0.20</td>\n",
       "      <td>pop</td>\n",
       "      <td>1980</td>\n",
       "      <td>A# Maj</td>\n",
       "      <td>102</td>\n",
       "      <td>-10.72</td>\n",
       "      <td>No</td>\n",
       "      <td>59</td>\n",
       "      <td>36</td>\n",
       "      <td>52</td>\n",
       "      <td>38</td>\n",
       "      <td>2</td>\n",
       "      <td>7</td>\n",
       "      <td>68</td>\n",
       "      <td>0</td>\n",
       "    </tr>\n",
       "    <tr>\n",
       "      <th>2</th>\n",
       "      <td>ABBA</td>\n",
       "      <td>As Good As New</td>\n",
       "      <td>sadness</td>\n",
       "      <td>0.30</td>\n",
       "      <td>pop</td>\n",
       "      <td>1979</td>\n",
       "      <td>E Maj</td>\n",
       "      <td>139</td>\n",
       "      <td>-5.70</td>\n",
       "      <td>No</td>\n",
       "      <td>50</td>\n",
       "      <td>78</td>\n",
       "      <td>85</td>\n",
       "      <td>97</td>\n",
       "      <td>3</td>\n",
       "      <td>8</td>\n",
       "      <td>20</td>\n",
       "      <td>2</td>\n",
       "    </tr>\n",
       "    <tr>\n",
       "      <th>3</th>\n",
       "      <td>ABBA</td>\n",
       "      <td>Bang</td>\n",
       "      <td>joy</td>\n",
       "      <td>0.35</td>\n",
       "      <td>pop</td>\n",
       "      <td>1975</td>\n",
       "      <td>F Maj</td>\n",
       "      <td>132</td>\n",
       "      <td>-3.00</td>\n",
       "      <td>No</td>\n",
       "      <td>52</td>\n",
       "      <td>76</td>\n",
       "      <td>50</td>\n",
       "      <td>89</td>\n",
       "      <td>3</td>\n",
       "      <td>32</td>\n",
       "      <td>3</td>\n",
       "      <td>0</td>\n",
       "    </tr>\n",
       "    <tr>\n",
       "      <th>4</th>\n",
       "      <td>ABBA</td>\n",
       "      <td>Bang-A-Boomerang</td>\n",
       "      <td>joy</td>\n",
       "      <td>0.35</td>\n",
       "      <td>pop</td>\n",
       "      <td>1975</td>\n",
       "      <td>F Maj</td>\n",
       "      <td>132</td>\n",
       "      <td>-3.00</td>\n",
       "      <td>No</td>\n",
       "      <td>52</td>\n",
       "      <td>76</td>\n",
       "      <td>50</td>\n",
       "      <td>89</td>\n",
       "      <td>3</td>\n",
       "      <td>32</td>\n",
       "      <td>3</td>\n",
       "      <td>0</td>\n",
       "    </tr>\n",
       "    <tr>\n",
       "      <th>5</th>\n",
       "      <td>ABBA</td>\n",
       "      <td>Burning My Bridges</td>\n",
       "      <td>anger</td>\n",
       "      <td>-0.34</td>\n",
       "      <td>pop</td>\n",
       "      <td>2013</td>\n",
       "      <td>C Maj</td>\n",
       "      <td>135</td>\n",
       "      <td>-7.00</td>\n",
       "      <td>No</td>\n",
       "      <td>34</td>\n",
       "      <td>92</td>\n",
       "      <td>40</td>\n",
       "      <td>43</td>\n",
       "      <td>4</td>\n",
       "      <td>31</td>\n",
       "      <td>9</td>\n",
       "      <td>0</td>\n",
       "    </tr>\n",
       "    <tr>\n",
       "      <th>6</th>\n",
       "      <td>ABBA</td>\n",
       "      <td>Cassandra</td>\n",
       "      <td>sadness</td>\n",
       "      <td>-0.10</td>\n",
       "      <td>pop</td>\n",
       "      <td>1981</td>\n",
       "      <td>C Maj</td>\n",
       "      <td>160</td>\n",
       "      <td>-12.62</td>\n",
       "      <td>No</td>\n",
       "      <td>39</td>\n",
       "      <td>35</td>\n",
       "      <td>32</td>\n",
       "      <td>42</td>\n",
       "      <td>4</td>\n",
       "      <td>7</td>\n",
       "      <td>72</td>\n",
       "      <td>0</td>\n",
       "    </tr>\n",
       "    <tr>\n",
       "      <th>7</th>\n",
       "      <td>ABBA</td>\n",
       "      <td>Chiquitita</td>\n",
       "      <td>sadness</td>\n",
       "      <td>0.11</td>\n",
       "      <td>pop</td>\n",
       "      <td>1979</td>\n",
       "      <td>A Maj</td>\n",
       "      <td>84</td>\n",
       "      <td>-8.11</td>\n",
       "      <td>No</td>\n",
       "      <td>74</td>\n",
       "      <td>55</td>\n",
       "      <td>50</td>\n",
       "      <td>37</td>\n",
       "      <td>4</td>\n",
       "      <td>31</td>\n",
       "      <td>73</td>\n",
       "      <td>0</td>\n",
       "    </tr>\n",
       "    <tr>\n",
       "      <th>8</th>\n",
       "      <td>ABBA</td>\n",
       "      <td>Crazy World</td>\n",
       "      <td>surprise</td>\n",
       "      <td>-0.21</td>\n",
       "      <td>pop</td>\n",
       "      <td>1975</td>\n",
       "      <td>G# Maj</td>\n",
       "      <td>135</td>\n",
       "      <td>-9.07</td>\n",
       "      <td>No</td>\n",
       "      <td>39</td>\n",
       "      <td>60</td>\n",
       "      <td>50</td>\n",
       "      <td>55</td>\n",
       "      <td>3</td>\n",
       "      <td>29</td>\n",
       "      <td>38</td>\n",
       "      <td>0</td>\n",
       "    </tr>\n",
       "    <tr>\n",
       "      <th>9</th>\n",
       "      <td>ABBA</td>\n",
       "      <td>Crying Over You</td>\n",
       "      <td>anger</td>\n",
       "      <td>-0.07</td>\n",
       "      <td>pop</td>\n",
       "      <td>2007</td>\n",
       "      <td>C# Maj</td>\n",
       "      <td>130</td>\n",
       "      <td>-6.94</td>\n",
       "      <td>No</td>\n",
       "      <td>56</td>\n",
       "      <td>72</td>\n",
       "      <td>51</td>\n",
       "      <td>50</td>\n",
       "      <td>7</td>\n",
       "      <td>28</td>\n",
       "      <td>20</td>\n",
       "      <td>0</td>\n",
       "    </tr>\n",
       "  </tbody>\n",
       "</table>\n",
       "</div>"
      ],
      "text/plain": [
       "  Artist                   Song   Emotion  Variance Genre  Date     Key  Tempo  Loudness Explicit  Popularity  Energy  Danceability  Positiveness  Speechiness  Liveness  Acousticness  Instrumentalness\n",
       "0   ABBA  She's My Kind Of Girl       joy      0.45   pop  2014   F Maj    128     -6.00       No          31      78            56            60            3        31             7                 0\n",
       "1   ABBA       Andante, Andante      love      0.20   pop  1980  A# Maj    102    -10.72       No          59      36            52            38            2         7            68                 0\n",
       "2   ABBA         As Good As New   sadness      0.30   pop  1979   E Maj    139     -5.70       No          50      78            85            97            3         8            20                 2\n",
       "3   ABBA                   Bang       joy      0.35   pop  1975   F Maj    132     -3.00       No          52      76            50            89            3        32             3                 0\n",
       "4   ABBA       Bang-A-Boomerang       joy      0.35   pop  1975   F Maj    132     -3.00       No          52      76            50            89            3        32             3                 0\n",
       "5   ABBA     Burning My Bridges     anger     -0.34   pop  2013   C Maj    135     -7.00       No          34      92            40            43            4        31             9                 0\n",
       "6   ABBA              Cassandra   sadness     -0.10   pop  1981   C Maj    160    -12.62       No          39      35            32            42            4         7            72                 0\n",
       "7   ABBA             Chiquitita   sadness      0.11   pop  1979   A Maj     84     -8.11       No          74      55            50            37            4        31            73                 0\n",
       "8   ABBA            Crazy World  surprise     -0.21   pop  1975  G# Maj    135     -9.07       No          39      60            50            55            3        29            38                 0\n",
       "9   ABBA        Crying Over You     anger     -0.07   pop  2007  C# Maj    130     -6.94       No          56      72            51            50            7        28            20                 0"
      ]
     },
     "execution_count": 85,
     "metadata": {},
     "output_type": "execute_result"
    }
   ],
   "source": [
    "# examine the first 10 rows of data\n",
    "df.head(10)"
   ]
  },
  {
   "cell_type": "markdown",
   "id": "e0b09428-94b4-42b5-976e-845a46bb65f7",
   "metadata": {},
   "source": [
    "#### <u>Explanation of non-obvious columns and values:</u>\n",
    "\n",
    "#### Variance: Variability measure across audio features of the song\n",
    "#### Tempo: Tempo in BPM\n",
    "#### Loudness: Average volume level in decibels (usually negative)\n",
    "#### The columns from Popularity to Instrumentalness are scored on a 0-100 scale"
   ]
  },
  {
   "cell_type": "code",
   "execution_count": 87,
   "id": "ca12307f-3859-4b71-b1f7-2b27ce0351d7",
   "metadata": {},
   "outputs": [
    {
     "data": {
      "text/plain": [
       "(236988, 18)"
      ]
     },
     "execution_count": 87,
     "metadata": {},
     "output_type": "execute_result"
    }
   ],
   "source": [
    "# check the shape of the data\n",
    "df.shape"
   ]
  },
  {
   "cell_type": "code",
   "execution_count": 88,
   "id": "5eb55bd1-9f70-4d06-967e-fb15e6ad0ba5",
   "metadata": {},
   "outputs": [
    {
     "name": "stdout",
     "output_type": "stream",
     "text": [
      "Artist              0\n",
      "Song                8\n",
      "Emotion             0\n",
      "Variance            0\n",
      "Genre               0\n",
      "Date                0\n",
      "Key                 0\n",
      "Tempo               0\n",
      "Loudness            0\n",
      "Explicit            0\n",
      "Popularity          0\n",
      "Energy              0\n",
      "Danceability        0\n",
      "Positiveness        0\n",
      "Speechiness         0\n",
      "Liveness            0\n",
      "Acousticness        0\n",
      "Instrumentalness    0\n",
      "dtype: int64\n"
     ]
    }
   ],
   "source": [
    "# check for null values in each column\n",
    "null_counts = df.isnull().sum()\n",
    "print(null_counts)"
   ]
  },
  {
   "cell_type": "markdown",
   "id": "498d257b-bde0-400f-ad05-a2da6e4059b5",
   "metadata": {},
   "source": [
    "#### The 8 null values in Song can safely be ignored, in light of the number of rows, which is nearly 237K. ####\n",
    "#### Check data types for the columns:"
   ]
  },
  {
   "cell_type": "code",
   "execution_count": 90,
   "id": "9f739378-7693-4e63-ba73-af44f78023fa",
   "metadata": {},
   "outputs": [
    {
     "name": "stdout",
     "output_type": "stream",
     "text": [
      "Basic data types for each column:\n",
      "Artist               object\n",
      "Song                 object\n",
      "Emotion              object\n",
      "Variance            float64\n",
      "Genre                object\n",
      "Date                  int64\n",
      "Key                  object\n",
      "Tempo                 int64\n",
      "Loudness            float64\n",
      "Explicit             object\n",
      "Popularity            int64\n",
      "Energy                int64\n",
      "Danceability          int64\n",
      "Positiveness          int64\n",
      "Speechiness           int64\n",
      "Liveness              int64\n",
      "Acousticness          int64\n",
      "Instrumentalness      int64\n",
      "dtype: object\n"
     ]
    }
   ],
   "source": [
    "# data types for each column\n",
    "print(\"Basic data types for each column:\")\n",
    "dtypes_series = df.dtypes\n",
    "print(dtypes_series)"
   ]
  },
  {
   "cell_type": "markdown",
   "id": "18e993e9-0b62-421b-a14f-3d4455dd8946",
   "metadata": {},
   "source": [
    "#### These are the correct types. ####"
   ]
  },
  {
   "cell_type": "markdown",
   "id": "a7ae78e9-50d7-4b1d-b718-60490f1ffcf2",
   "metadata": {},
   "source": [
    "___________________________________________________________________________________________________________________________________________"
   ]
  },
  {
   "cell_type": "markdown",
   "id": "24a0cfe9-49bb-41e9-8230-933847993bf0",
   "metadata": {},
   "source": [
    "#### Find the number of unique values in each column. ####"
   ]
  },
  {
   "cell_type": "code",
   "execution_count": 94,
   "id": "2b82a4b6-07e9-4eb4-9c75-1c79f1d6e5fc",
   "metadata": {},
   "outputs": [
    {
     "name": "stdout",
     "output_type": "stream",
     "text": [
      "Unique Value Counts by Data Type:\n",
      "================================\n",
      "\n",
      "Data Type: object\n",
      "-----------------\n",
      "Artist: 30607 unique values\n",
      "Song: 159730 unique values\n",
      "Emotion: 10 unique values\n",
      "Genre: 2562 unique values\n",
      "Key: 24 unique values\n",
      "Explicit: 2 unique values\n",
      "\n",
      "Data Type: float64\n",
      "------------------\n",
      "Variance: 38455 unique values\n",
      "Loudness: 2953 unique values\n",
      "\n",
      "Data Type: int64\n",
      "----------------\n",
      "Date: 93 unique values\n",
      "Tempo: 167 unique values\n",
      "Popularity: 100 unique values\n",
      "Energy: 101 unique values\n",
      "Danceability: 94 unique values\n",
      "Positiveness: 100 unique values\n",
      "Speechiness: 96 unique values\n",
      "Liveness: 100 unique values\n",
      "Acousticness: 101 unique values\n",
      "Instrumentalness: 101 unique values\n"
     ]
    },
    {
     "data": {
      "text/plain": [
       "{'object': {'Artist': 30607,\n",
       "  'Song': 159730,\n",
       "  'Emotion': 10,\n",
       "  'Genre': 2562,\n",
       "  'Key': 24,\n",
       "  'Explicit': 2},\n",
       " 'float64': {'Variance': 38455, 'Loudness': 2953},\n",
       " 'int64': {'Date': 93,\n",
       "  'Tempo': 167,\n",
       "  'Popularity': 100,\n",
       "  'Energy': 101,\n",
       "  'Danceability': 94,\n",
       "  'Positiveness': 100,\n",
       "  'Speechiness': 96,\n",
       "  'Liveness': 100,\n",
       "  'Acousticness': 101,\n",
       "  'Instrumentalness': 101}}"
      ]
     },
     "execution_count": 94,
     "metadata": {},
     "output_type": "execute_result"
    }
   ],
   "source": [
    "import pandas as pd\n",
    "import numpy as np\n",
    "\n",
    "def count_unique_by_dtype(df):\n",
    "    \"\"\"\n",
    "    Count unique values for each column grouped by data type\n",
    "    \n",
    "    Parameters:\n",
    "    df (pandas.DataFrame): The DataFrame to analyze\n",
    "    \n",
    "    Returns:\n",
    "    dict: Dictionary with data types as keys and counts of unique values as values\n",
    "    \"\"\"\n",
    "    \n",
    "    results = {}\n",
    "    \n",
    "    dtype_groups = {}\n",
    "    for column, dtype in df.dtypes.items():\n",
    "        dtype_name = str(dtype)\n",
    "        if dtype_name not in dtype_groups:\n",
    "            dtype_groups[dtype_name] = []\n",
    "        dtype_groups[dtype_name].append(column)\n",
    "    \n",
    "    \n",
    "    for dtype_name, columns in dtype_groups.items():\n",
    "        results[dtype_name] = {}\n",
    "        \n",
    "        for column in columns:\n",
    "            n_unique = df[column].nunique(dropna=False)\n",
    "            results[dtype_name][column] = n_unique\n",
    "    \n",
    "    \n",
    "    print(\"Unique Value Counts by Data Type:\")\n",
    "    print(\"================================\")\n",
    "    \n",
    "    for dtype, columns in results.items():\n",
    "        print(f\"\\nData Type: {dtype}\")\n",
    "        print(\"-\" * (len(dtype) + 11))\n",
    "\n",
    "        for column, count in columns.items():\n",
    "            print(f\"{column}: {count} unique values\")\n",
    "        \n",
    "    \n",
    "    return results\n",
    "\n",
    "count_unique_by_dtype(df)"
   ]
  },
  {
   "cell_type": "markdown",
   "id": "16ae9ff4-7a3b-4f39-bbb6-d94b57c47642",
   "metadata": {},
   "source": [
    "_____________________________________________________________________________________________________________________________________________________"
   ]
  },
  {
   "cell_type": "code",
   "execution_count": 96,
   "id": "fee67896-470f-481e-8a32-9585cb5825fe",
   "metadata": {},
   "outputs": [],
   "source": [
    "# Reset the df\n",
    "df = pd.read_csv('light_spotify_dataset.csv')\n",
    "df.columns = [col.title() for col in df.columns]"
   ]
  },
  {
   "cell_type": "markdown",
   "id": "aeaafcc5-e6e1-4e77-b05e-7415ea975980",
   "metadata": {},
   "source": [
    "### This is a hypothesis test to see if songs with dates before 2008 are less likely to be explicit than songs before 2008."
   ]
  },
  {
   "cell_type": "code",
   "execution_count": 98,
   "id": "b2e156e1-7d10-4027-a5e8-573d347d9e7e",
   "metadata": {},
   "outputs": [
    {
     "name": "stdout",
     "output_type": "stream",
     "text": [
      "Z-statistic: nan\n",
      "P-value: nan\n"
     ]
    },
    {
     "name": "stderr",
     "output_type": "stream",
     "text": [
      "C:\\ProgramData\\anaconda3\\Lib\\site-packages\\statsmodels\\stats\\proportion.py:1004: RuntimeWarning: invalid value encountered in divide\n",
      "  prop = count * 1. / nobs\n",
      "C:\\ProgramData\\anaconda3\\Lib\\site-packages\\statsmodels\\stats\\proportion.py:1020: RuntimeWarning: divide by zero encountered in divide\n",
      "  nobs_fact = np.sum(1. / nobs)\n"
     ]
    }
   ],
   "source": [
    "import pandas as pd\n",
    "from statsmodels.stats.proportion import proportions_ztest\n",
    "\n",
    "# Load your dataset\n",
    "df = pd.read_csv(\"light_spotify_dataset.csv\")\n",
    "\n",
    "# Convert Date column to datetime\n",
    "df['Date'] = pd.to_datetime(df['Date'], errors='coerce')\n",
    "\n",
    "# Clean Explicit column\n",
    "df['Explicit'] = df['Explicit'].astype(str).str.strip().str.lower()\n",
    "\n",
    "# Create groups\n",
    "after_2008 = df[df['Date'].dt.year >= 2008]\n",
    "before_2008 = df[df['Date'].dt.year < 2008]\n",
    "\n",
    "# Count explicit = 'yes' in each group\n",
    "explicit_after = (after_2008['Explicit'] == 'yes').sum()\n",
    "explicit_before = (before_2008['Explicit'] == 'yes').sum()\n",
    "\n",
    "# Total in each group\n",
    "n_after = after_2008.shape[0]\n",
    "n_before = before_2008.shape[0]\n",
    "\n",
    "# Perform 2-proportion Z-test\n",
    "count = [explicit_after, explicit_before]\n",
    "nobs = [n_after, n_before]\n",
    "stat, pval = proportions_ztest(count, nobs, alternative='larger')\n",
    "\n",
    "print(f\"Z-statistic: {stat:.4f}\")\n",
    "print(f\"P-value: {pval:.4f}\")\n",
    "\n"
   ]
  },
  {
   "cell_type": "code",
   "execution_count": 99,
   "id": "5e311730-bc4f-432e-9d51-63c80f375526",
   "metadata": {},
   "outputs": [
    {
     "ename": "UnboundLocalError",
     "evalue": "cannot access local variable 'df' where it is not associated with a value",
     "output_type": "error",
     "traceback": [
      "\u001b[1;31m---------------------------------------------------------------------------\u001b[0m",
      "\u001b[1;31mUnboundLocalError\u001b[0m                         Traceback (most recent call last)",
      "Cell \u001b[1;32mIn[99], line 59\u001b[0m\n\u001b[0;32m     47\u001b[0m     \u001b[38;5;28;01mreturn\u001b[39;00m {\n\u001b[0;32m     48\u001b[0m         \u001b[38;5;124m'\u001b[39m\u001b[38;5;124mexplicit_before\u001b[39m\u001b[38;5;124m'\u001b[39m: explicit_before,\n\u001b[0;32m     49\u001b[0m         \u001b[38;5;124m'\u001b[39m\u001b[38;5;124mexplicit_after\u001b[39m\u001b[38;5;124m'\u001b[39m: explicit_after,\n\u001b[1;32m   (...)\u001b[0m\n\u001b[0;32m     55\u001b[0m         \u001b[38;5;124m'\u001b[39m\u001b[38;5;124mconclusion\u001b[39m\u001b[38;5;124m'\u001b[39m: \u001b[38;5;124m\"\u001b[39m\u001b[38;5;124mReject H0\u001b[39m\u001b[38;5;124m\"\u001b[39m \u001b[38;5;28;01mif\u001b[39;00m p_value \u001b[38;5;241m<\u001b[39m \u001b[38;5;241m0.05\u001b[39m \u001b[38;5;28;01melse\u001b[39;00m \u001b[38;5;124m\"\u001b[39m\u001b[38;5;124mFail to reject H0\u001b[39m\u001b[38;5;124m\"\u001b[39m\n\u001b[0;32m     56\u001b[0m     }\n\u001b[0;32m     58\u001b[0m \u001b[38;5;66;03m# Call the function with df\u001b[39;00m\n\u001b[1;32m---> 59\u001b[0m results \u001b[38;5;241m=\u001b[39m by_year(df)  \u001b[38;5;66;03m# Make sure to use the correct function name\u001b[39;00m\n\u001b[0;32m     60\u001b[0m \u001b[38;5;28mprint\u001b[39m(\u001b[38;5;124mf\u001b[39m\u001b[38;5;124m\"\u001b[39m\u001b[38;5;124mProportion before 2008: \u001b[39m\u001b[38;5;132;01m{\u001b[39;00mresults[\u001b[38;5;124m'\u001b[39m\u001b[38;5;124mexplicit_before\u001b[39m\u001b[38;5;124m'\u001b[39m]\u001b[38;5;132;01m:\u001b[39;00m\u001b[38;5;124m.3f\u001b[39m\u001b[38;5;132;01m}\u001b[39;00m\u001b[38;5;124m\"\u001b[39m)\n\u001b[0;32m     61\u001b[0m \u001b[38;5;28mprint\u001b[39m(\u001b[38;5;124mf\u001b[39m\u001b[38;5;124m\"\u001b[39m\u001b[38;5;124mProportion after 2008: \u001b[39m\u001b[38;5;132;01m{\u001b[39;00mresults[\u001b[38;5;124m'\u001b[39m\u001b[38;5;124mexplicit_after\u001b[39m\u001b[38;5;124m'\u001b[39m]\u001b[38;5;132;01m:\u001b[39;00m\u001b[38;5;124m.3f\u001b[39m\u001b[38;5;132;01m}\u001b[39;00m\u001b[38;5;124m\"\u001b[39m)\n",
      "Cell \u001b[1;32mIn[99], line 3\u001b[0m, in \u001b[0;36mby_year\u001b[1;34m(data, year_threshold)\u001b[0m\n\u001b[0;32m      1\u001b[0m \u001b[38;5;28;01mdef\u001b[39;00m \u001b[38;5;21mby_year\u001b[39m(data, year_threshold\u001b[38;5;241m=\u001b[39m\u001b[38;5;241m2008\u001b[39m):\n\u001b[0;32m      2\u001b[0m     \u001b[38;5;66;03m# Ensure date is datetime\u001b[39;00m\n\u001b[1;32m----> 3\u001b[0m     df[\u001b[38;5;124m'\u001b[39m\u001b[38;5;124mDate\u001b[39m\u001b[38;5;124m'\u001b[39m] \u001b[38;5;241m=\u001b[39m pd\u001b[38;5;241m.\u001b[39mto_datetime(df[\u001b[38;5;124m'\u001b[39m\u001b[38;5;124mDate\u001b[39m\u001b[38;5;124m'\u001b[39m], errors\u001b[38;5;241m=\u001b[39m\u001b[38;5;124m'\u001b[39m\u001b[38;5;124mcoerce\u001b[39m\u001b[38;5;124m'\u001b[39m)\n\u001b[0;32m      5\u001b[0m     \u001b[38;5;66;03m# Then the rest of your code remains the same\u001b[39;00m\n\u001b[0;32m      6\u001b[0m     df \u001b[38;5;241m=\u001b[39m data\u001b[38;5;241m.\u001b[39mcopy()  \u001b[38;5;66;03m# Using data parameter instead of undefined df\u001b[39;00m\n",
      "\u001b[1;31mUnboundLocalError\u001b[0m: cannot access local variable 'df' where it is not associated with a value"
     ]
    }
   ],
   "source": [
    "def by_year(data, year_threshold=2008):\n",
    "    # Ensure date is datetime\n",
    "    df['Date'] = pd.to_datetime(df['Date'], errors='coerce')\n",
    "    \n",
    "    # Then the rest of your code remains the same\n",
    "    df = data.copy()  # Using data parameter instead of undefined df\n",
    "    df['Explicit'] = df['Explicit'].astype(str).str.strip().str.lower()\n",
    "    \n",
    "    # Create a column to identify songs before/after threshold\n",
    "    df['Before_Threshold'] = df['Date'].dt.year < year_threshold  # Using the parameter\n",
    "    \n",
    "    # Group data\n",
    "    before_group = df[df['Before_Threshold']]\n",
    "    after_group = df[~df['Before_Threshold']]\n",
    "    \n",
    "    # Calculate proportions\n",
    "    explicit_before = (before_group['Explicit'] == 'yes').mean()\n",
    "    explicit_after = (after_group['Explicit'] == 'yes').mean()\n",
    "    \n",
    "    # Sample sizes\n",
    "    n_before = len(before_group)\n",
    "    n_after = len(after_group)\n",
    "    \n",
    "    # Perform the proportion test\n",
    "    count_before = (before_group['Explicit'] == 'yes').sum()\n",
    "    count_after = (after_group['Explicit'] == 'yes').sum()\n",
    "    \n",
    "    stat, p_value = proportions_ztest(\n",
    "        [count_before, count_after], \n",
    "        [n_before, n_after],\n",
    "        alternative='smaller'\n",
    "    )\n",
    "    \n",
    "    # Visualize the results\n",
    "    plt.figure(figsize=(10, 6))\n",
    "    sns.barplot(x=['Before 2008', 'After 2008'], y=[explicit_before, explicit_after])\n",
    "    plt.title(f'Proportion of Explicit Songs Before and After {year_threshold}')\n",
    "    plt.ylabel('Proportion of Explicit Songs')\n",
    "    plt.ylim(0, max(explicit_before, explicit_after) * 1.2)\n",
    "    \n",
    "    for i, prop in enumerate([explicit_before, explicit_after]):\n",
    "        plt.text(i, prop + 0.01, f'{prop:.3f}', ha='center')\n",
    "    \n",
    "    plt.tight_layout()\n",
    "    plt.show()\n",
    "    \n",
    "    return {\n",
    "        'explicit_before': explicit_before,\n",
    "        'explicit_after': explicit_after,\n",
    "        'n_before': n_before,\n",
    "        'n_after': n_after,\n",
    "        'z_statistic': stat,\n",
    "        'p_value': p_value,\n",
    "        'significant': p_value < 0.05,\n",
    "        'conclusion': \"Reject H0\" if p_value < 0.05 else \"Fail to reject H0\"\n",
    "    }\n",
    "\n",
    "# Call the function with df\n",
    "results = by_year(df)  # Make sure to use the correct function name\n",
    "print(f\"Proportion before 2008: {results['explicit_before']:.3f}\")\n",
    "print(f\"Proportion after 2008: {results['explicit_after']:.3f}\")\n",
    "print(f\"p-value: {results['p_value']:.4f}\")\n",
    "print(f\"Conclusion: {results['conclusion']}\")"
   ]
  },
  {
   "cell_type": "code",
   "execution_count": 107,
   "id": "1a12f402-dd25-4a17-8054-c21886247535",
   "metadata": {},
   "outputs": [
    {
     "name": "stdout",
     "output_type": "stream",
     "text": [
      "Total rows: 236988\n",
      "Valid dates: 236988\n"
     ]
    }
   ],
   "source": [
    "print(\"Total rows:\", df.shape[0])\n",
    "print(\"Valid dates:\", df['Date'].notna().sum())\n"
   ]
  },
  {
   "cell_type": "code",
   "execution_count": 108,
   "id": "b9a4b3ba-62a9-428a-80af-3328c87ee87c",
   "metadata": {},
   "outputs": [
    {
     "name": "stdout",
     "output_type": "stream",
     "text": [
      "Songs from 2008 or later: 0\n",
      "Songs before 2008: 236988\n"
     ]
    }
   ],
   "source": [
    "print(\"Songs from 2008 or later:\", after_2008.shape[0])\n",
    "print(\"Songs before 2008:\", before_2008.shape[0])\n"
   ]
  },
  {
   "cell_type": "code",
   "execution_count": 109,
   "id": "920fefeb-7bf1-463e-8a28-b13520367b07",
   "metadata": {},
   "outputs": [
    {
     "name": "stdout",
     "output_type": "stream",
     "text": [
      "<DatetimeArray>\n",
      "['1970-01-01 00:00:00.000002014', '1970-01-01 00:00:00.000001980', '1970-01-01 00:00:00.000001979', '1970-01-01 00:00:00.000001975', '1970-01-01 00:00:00.000002013', '1970-01-01 00:00:00.000001981', '1970-01-01 00:00:00.000002007', '1970-01-01 00:00:00.000001974', '1970-01-01 00:00:00.000001976', '1970-01-01 00:00:00.000001973']\n",
      "Length: 10, dtype: datetime64[ns]\n"
     ]
    }
   ],
   "source": [
    "print(df['Date'].dropna().unique()[:10])\n"
   ]
  },
  {
   "cell_type": "code",
   "execution_count": 110,
   "id": "3f208b56-d6fc-44a3-bc30-ffb91c445e72",
   "metadata": {},
   "outputs": [],
   "source": [
    "# Step 1: Convert Date to string (if it's not already)\n",
    "df['Date'] = df['Date'].astype(str)\n",
    "\n",
    "# Step 2: Extract the last 4 digits, which represent the year\n",
    "df['Year'] = df['Date'].str[-4:].astype(int)\n"
   ]
  },
  {
   "cell_type": "code",
   "execution_count": 111,
   "id": "e1a7996a-fdaa-45c9-8053-625a4bb39476",
   "metadata": {},
   "outputs": [
    {
     "name": "stdout",
     "output_type": "stream",
     "text": [
      "[2014 1980 1979 1975 2013 1981 2007 1974 1976 1973]\n"
     ]
    }
   ],
   "source": [
    "print(df['Year'].dropna().unique()[:10])"
   ]
  },
  {
   "cell_type": "code",
   "execution_count": 112,
   "id": "736642f5-3584-44e8-a7ee-98c2b5529135",
   "metadata": {},
   "outputs": [
    {
     "name": "stderr",
     "output_type": "stream",
     "text": [
      "C:\\ProgramData\\anaconda3\\Lib\\site-packages\\statsmodels\\stats\\proportion.py:1004: RuntimeWarning: invalid value encountered in divide\n",
      "  prop = count * 1. / nobs\n",
      "C:\\ProgramData\\anaconda3\\Lib\\site-packages\\statsmodels\\stats\\proportion.py:1020: RuntimeWarning: divide by zero encountered in divide\n",
      "  nobs_fact = np.sum(1. / nobs)\n",
      "posx and posy should be finite values\n",
      "posx and posy should be finite values\n"
     ]
    },
    {
     "data": {
      "image/png": "[encoded data removed]",
      "text/plain": [
       "<Figure size 1000x600 with 1 Axes>"
      ]
     },
     "metadata": {},
     "output_type": "display_data"
    },
    {
     "name": "stdout",
     "output_type": "stream",
     "text": [
      "Proportion before 2008: 0.321\n",
      "Proportion after 2008: nan\n",
      "p-value: nan\n",
      "Conclusion: Fail to reject H0\n"
     ]
    }
   ],
   "source": [
    "def analyze_explicit_songs_by_year(df, year_threshold=2008):\n",
    "    # Convert 'Date' column to datetime format first\n",
    "    df['Date'] = pd.to_datetime(df['Date'])\n",
    "    \n",
    "    # Create a column to identify songs before/after threshold\n",
    "    df['Before_Threshold'] = df['Date'].dt.year < year_threshold\n",
    "    \n",
    "    # Group data\n",
    "    before_group = df[df['Before_Threshold']]\n",
    "    after_group = df[~df['Before_Threshold']]\n",
    "    \n",
    "    # Calculate proportions\n",
    "    explicit_before = (before_group['Explicit'] == 'yes').mean()\n",
    "    explicit_after = (after_group['Explicit'] == 'yes').mean()\n",
    "    \n",
    "    # Sample sizes\n",
    "    n_before = len(before_group)\n",
    "    n_after = len(after_group)\n",
    "    \n",
    "    # Perform the proportion test\n",
    "    count_before = (before_group['Explicit'] == 'yes').sum()\n",
    "    count_after = (after_group['Explicit'] == 'yes').sum()\n",
    "    \n",
    "    stat, p_value = proportions_ztest(\n",
    "        [count_before, count_after], \n",
    "        [n_before, n_after],\n",
    "        alternative='smaller'\n",
    "    )\n",
    "    \n",
    "    # Visualize the results\n",
    "    plt.figure(figsize=(10, 6))\n",
    "    sns.barplot(x=['Before 2008', 'After 2008'], y=[explicit_before, explicit_after])\n",
    "    plt.title(f'Proportion of Explicit Songs Before and After {year_threshold}')\n",
    "    plt.ylabel('Proportion of Explicit Songs')\n",
    "    plt.ylim(0, max(explicit_before, explicit_after) * 1.2)\n",
    "    \n",
    "    for i, prop in enumerate([explicit_before, explicit_after]):\n",
    "        plt.text(i, prop + 0.01, f'{prop:.3f}', ha='center')\n",
    "    \n",
    "    plt.tight_layout()\n",
    "    plt.show()\n",
    "    \n",
    "    return {\n",
    "        'explicit_before': explicit_before,\n",
    "        'explicit_after': explicit_after,\n",
    "        'n_before': n_before,\n",
    "        'n_after': n_after,\n",
    "        'z_statistic': stat,\n",
    "        'p_value': p_value,\n",
    "        'significant': p_value < 0.05,\n",
    "        'conclusion': \"Reject H0\" if p_value < 0.05 else \"Fail to reject H0\"\n",
    "    }\n",
    "\n",
    "# Call the function with df (assuming df is your DataFrame)\n",
    "results = analyze_explicit_songs_by_year(df, year_threshold=2008)\n",
    "print(f\"Proportion before 2008: {results['explicit_before']:.3f}\")\n",
    "print(f\"Proportion after 2008: {results['explicit_after']:.3f}\")\n",
    "print(f\"p-value: {results['p_value']:.4f}\")\n",
    "print(f\"Conclusion: {results['conclusion']}\")"
   ]
  },
  {
   "cell_type": "code",
   "execution_count": 113,
   "id": "c88e9773-4382-4717-9e18-3d963700f622",
   "metadata": {},
   "outputs": [
    {
     "ename": "AttributeError",
     "evalue": "'str' object has no attribute 'copy'",
     "output_type": "error",
     "traceback": [
      "\u001b[1;31m---------------------------------------------------------------------------\u001b[0m",
      "\u001b[1;31mAttributeError\u001b[0m                            Traceback (most recent call last)",
      "Cell \u001b[1;32mIn[113], line 57\u001b[0m\n\u001b[0;32m     45\u001b[0m     \u001b[38;5;28;01mreturn\u001b[39;00m {\n\u001b[0;32m     46\u001b[0m         \u001b[38;5;124m'\u001b[39m\u001b[38;5;124mexplicit_before\u001b[39m\u001b[38;5;124m'\u001b[39m: explicit_before,\n\u001b[0;32m     47\u001b[0m         \u001b[38;5;124m'\u001b[39m\u001b[38;5;124mexplicit_after\u001b[39m\u001b[38;5;124m'\u001b[39m: explicit_after,\n\u001b[1;32m   (...)\u001b[0m\n\u001b[0;32m     53\u001b[0m         \u001b[38;5;124m'\u001b[39m\u001b[38;5;124mconclusion\u001b[39m\u001b[38;5;124m'\u001b[39m: \u001b[38;5;124m\"\u001b[39m\u001b[38;5;124mReject H0\u001b[39m\u001b[38;5;124m\"\u001b[39m \u001b[38;5;28;01mif\u001b[39;00m p_value \u001b[38;5;241m<\u001b[39m \u001b[38;5;241m0.05\u001b[39m \u001b[38;5;28;01melse\u001b[39;00m \u001b[38;5;124m\"\u001b[39m\u001b[38;5;124mFail to reject H0\u001b[39m\u001b[38;5;124m\"\u001b[39m\n\u001b[0;32m     54\u001b[0m     }\n\u001b[0;32m     56\u001b[0m \u001b[38;5;66;03m# Call the function with df\u001b[39;00m\n\u001b[1;32m---> 57\u001b[0m results \u001b[38;5;241m=\u001b[39m by_year(\u001b[38;5;124m'\u001b[39m\u001b[38;5;124myear\u001b[39m\u001b[38;5;124m'\u001b[39m, year_threshold\u001b[38;5;241m=\u001b[39m\u001b[38;5;241m2008\u001b[39m)  \u001b[38;5;66;03m# Make sure to use the correct function name\u001b[39;00m\n\u001b[0;32m     58\u001b[0m \u001b[38;5;28mprint\u001b[39m(\u001b[38;5;124mf\u001b[39m\u001b[38;5;124m\"\u001b[39m\u001b[38;5;124mProportion before 2008: \u001b[39m\u001b[38;5;132;01m{\u001b[39;00mresults[\u001b[38;5;124m'\u001b[39m\u001b[38;5;124mexplicit_before\u001b[39m\u001b[38;5;124m'\u001b[39m]\u001b[38;5;132;01m:\u001b[39;00m\u001b[38;5;124m.3f\u001b[39m\u001b[38;5;132;01m}\u001b[39;00m\u001b[38;5;124m\"\u001b[39m)\n\u001b[0;32m     59\u001b[0m \u001b[38;5;28mprint\u001b[39m(\u001b[38;5;124mf\u001b[39m\u001b[38;5;124m\"\u001b[39m\u001b[38;5;124mProportion after 2008: \u001b[39m\u001b[38;5;132;01m{\u001b[39;00mresults[\u001b[38;5;124m'\u001b[39m\u001b[38;5;124mexplicit_after\u001b[39m\u001b[38;5;124m'\u001b[39m]\u001b[38;5;132;01m:\u001b[39;00m\u001b[38;5;124m.3f\u001b[39m\u001b[38;5;132;01m}\u001b[39;00m\u001b[38;5;124m\"\u001b[39m)\n",
      "Cell \u001b[1;32mIn[113], line 4\u001b[0m, in \u001b[0;36mby_year\u001b[1;34m(data, year_threshold)\u001b[0m\n\u001b[0;32m      1\u001b[0m \u001b[38;5;28;01mdef\u001b[39;00m \u001b[38;5;21mby_year\u001b[39m(data, year_threshold\u001b[38;5;241m=\u001b[39m\u001b[38;5;241m2008\u001b[39m):\n\u001b[0;32m      2\u001b[0m     \n\u001b[0;32m      3\u001b[0m     \u001b[38;5;66;03m# Then the rest of your code remains the same\u001b[39;00m\n\u001b[1;32m----> 4\u001b[0m     df \u001b[38;5;241m=\u001b[39m data\u001b[38;5;241m.\u001b[39mcopy()  \u001b[38;5;66;03m# Using data parameter instead of undefined df\u001b[39;00m\n\u001b[0;32m      5\u001b[0m     df[\u001b[38;5;124m'\u001b[39m\u001b[38;5;124mExplicit\u001b[39m\u001b[38;5;124m'\u001b[39m] \u001b[38;5;241m=\u001b[39m df[\u001b[38;5;124m'\u001b[39m\u001b[38;5;124mExplicit\u001b[39m\u001b[38;5;124m'\u001b[39m]\u001b[38;5;241m.\u001b[39mastype(\u001b[38;5;28mstr\u001b[39m)\u001b[38;5;241m.\u001b[39mstr\u001b[38;5;241m.\u001b[39mstrip()\u001b[38;5;241m.\u001b[39mstr\u001b[38;5;241m.\u001b[39mlower()\n\u001b[0;32m      7\u001b[0m     \u001b[38;5;66;03m# Create a column to identify songs before/after threshold\u001b[39;00m\n",
      "\u001b[1;31mAttributeError\u001b[0m: 'str' object has no attribute 'copy'"
     ]
    }
   ],
   "source": [
    "def by_year(data, year_threshold=2008):\n",
    "    \n",
    "    # Then the rest of your code remains the same\n",
    "    df = data.copy()  # Using data parameter instead of undefined df\n",
    "    df['Explicit'] = df['Explicit'].astype(str).str.strip().str.lower()\n",
    "    \n",
    "    # Create a column to identify songs before/after threshold\n",
    "    df['Before_Threshold'] = df['Date'].dt.year < 2008  # Using the parameter\n",
    "    \n",
    "    # Group data\n",
    "    before_group = df[df['Before_Threshold']]\n",
    "    after_group = df[~df['Before_Threshold']]\n",
    "    \n",
    "    # Calculate proportions\n",
    "    explicit_before = (before_group['Explicit'] == 'yes').mean()\n",
    "    explicit_after = (after_group['Explicit'] == 'yes').mean()\n",
    "    \n",
    "    # Sample sizes\n",
    "    n_before = len(before_group)\n",
    "    n_after = len(after_group)\n",
    "    \n",
    "    # Perform the proportion test\n",
    "    count_before = (before_group['Explicit'] == 'yes').sum()\n",
    "    count_after = (after_group['Explicit'] == 'yes').sum()\n",
    "    \n",
    "    stat, p_value = proportions_ztest(\n",
    "        [count_before, count_after], \n",
    "        [n_before, n_after],\n",
    "        alternative='smaller'\n",
    "    )\n",
    "    \n",
    "    # Visualize the results\n",
    "    plt.figure(figsize=(10, 6))\n",
    "    sns.barplot(x=['Before 2008', 'After 2008'], y=[explicit_before, explicit_after])\n",
    "    plt.title(f'Proportion of Explicit Songs Before and After {year_threshold}')\n",
    "    plt.ylabel('Proportion of Explicit Songs')\n",
    "    plt.ylim(0, max(explicit_before, explicit_after) * 1.2)\n",
    "    \n",
    "    for i, prop in enumerate([explicit_before, explicit_after]):\n",
    "        plt.text(i, prop + 0.01, f'{prop:.3f}', ha='center')\n",
    "    \n",
    "    plt.tight_layout()\n",
    "    plt.show()\n",
    "    \n",
    "    return {\n",
    "        'explicit_before': explicit_before,\n",
    "        'explicit_after': explicit_after,\n",
    "        'n_before': n_before,\n",
    "        'n_after': n_after,\n",
    "        'z_statistic': stat,\n",
    "        'p_value': p_value,\n",
    "        'significant': p_value < 0.05,\n",
    "        'conclusion': \"Reject H0\" if p_value < 0.05 else \"Fail to reject H0\"\n",
    "    }\n",
    "\n",
    "# Call the function with df\n",
    "results = by_year('year', year_threshold=2008)  # Make sure to use the correct function name\n",
    "print(f\"Proportion before 2008: {results['explicit_before']:.3f}\")\n",
    "print(f\"Proportion after 2008: {results['explicit_after']:.3f}\")\n",
    "print(f\"p-value: {results['p_value']:.4f}\")\n",
    "print(f\"Conclusion: {results['conclusion']}\")"
   ]
  },
  {
   "cell_type": "code",
   "execution_count": null,
   "id": "98160713-b065-4d19-9e1a-3c2641d129e0",
   "metadata": {},
   "outputs": [],
   "source": [
    "# data types for each column\n",
    "print(\"Basic data types for each column:\")\n",
    "dtypes_series = df.dtypes\n",
    "print(dtypes_series)"
   ]
  },
  {
   "cell_type": "code",
   "execution_count": null,
   "id": "e2c4b330-f2c3-4416-b130-2d80f5b64ea6",
   "metadata": {},
   "outputs": [],
   "source": []
  }
 ],
 "metadata": {
  "kernelspec": {
   "display_name": "Python 3 (ipykernel)",
   "language": "python",
   "name": "python3"
  },
  "language_info": {
   "codemirror_mode": {
    "name": "ipython",
    "version": 3
   },
   "file_extension": ".py",
   "mimetype": "text/x-python",
   "name": "python",
   "nbconvert_exporter": "python",
   "pygments_lexer": "ipython3",
   "version": "3.12.4"
  }
 },
 "nbformat": 4,
 "nbformat_minor": 5
}
